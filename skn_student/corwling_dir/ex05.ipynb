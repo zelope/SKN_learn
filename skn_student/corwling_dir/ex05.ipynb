{
 "cells": [
  {
   "cell_type": "code",
   "execution_count": 1,
   "metadata": {},
   "outputs": [],
   "source": [
    "from selenium import webdriver\n",
    "from selenium.webdriver.common.by import By\n"
   ]
  },
  {
   "cell_type": "code",
   "execution_count": 4,
   "metadata": {},
   "outputs": [],
   "source": [
    "# driver = webdriver.Chrome()\n",
    "# url = \"https://www.naver.com/\"\n",
    "# driver.get(url)\n",
    "# driver.implicitly_wait(3)"
   ]
  },
  {
   "cell_type": "code",
   "execution_count": 5,
   "metadata": {},
   "outputs": [
    {
     "data": {
      "text/plain": [
       "<selenium.webdriver.remote.webelement.WebElement (session=\"c773603984d6045286f90d29d9ab3dc6\", element=\"f.757D72D35CF74BDCBBAE5284C36FBFD0.d.D0A011FB79B290D6CDAF3EC2709D9D98.e.63\")>"
      ]
     },
     "execution_count": 5,
     "metadata": {},
     "output_type": "execute_result"
    }
   ],
   "source": [
    "# driver.find_element(By.CSS_SELECTOR, \"#query\")"
   ]
  },
  {
   "cell_type": "code",
   "execution_count": 12,
   "metadata": {},
   "outputs": [],
   "source": [
    "# # Navigate to Url\n",
    "# driver = webdriver.Chrome()\n",
    "# driver.get('https://www.selenium.dev/selenium/web/colorPage.html')\n",
    "# driver.implicitly_wait(3)\n",
    "\n",
    "# # Retrieves the computed style property 'color' of linktext\n",
    "# cssValue = driver.find_element(By.ID, \"hex\").value_of_css_property('background-color')\n",
    "# cssValue"
   ]
  },
  {
   "cell_type": "code",
   "execution_count": 11,
   "metadata": {},
   "outputs": [
    {
     "data": {
      "text/plain": [
       "'Just another link.'"
      ]
     },
     "execution_count": 11,
     "metadata": {},
     "output_type": "execute_result"
    }
   ],
   "source": [
    "# # Navigate to url\n",
    "# driver = webdriver.Chrome()\n",
    "# driver.get(\"https://www.selenium.dev/selenium/web/linked_image.html\")\n",
    "# driver.implicitly_wait(3)\n",
    "\n",
    "# # Retrieves the text of the element\n",
    "# text = driver.find_element(By.ID, \"justanotherLink\").text\n",
    "# text"
   ]
  },
  {
   "cell_type": "code",
   "execution_count": null,
   "metadata": {},
   "outputs": [],
   "source": []
  }
 ],
 "metadata": {
  "kernelspec": {
   "display_name": ".venv",
   "language": "python",
   "name": "python3"
  },
  "language_info": {
   "codemirror_mode": {
    "name": "ipython",
    "version": 3
   },
   "file_extension": ".py",
   "mimetype": "text/x-python",
   "name": "python",
   "nbconvert_exporter": "python",
   "pygments_lexer": "ipython3",
   "version": "3.11.9"
  }
 },
 "nbformat": 4,
 "nbformat_minor": 2
}
