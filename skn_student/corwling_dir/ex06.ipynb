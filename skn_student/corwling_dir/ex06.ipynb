{
 "cells": [
  {
   "cell_type": "code",
   "execution_count": 1,
   "metadata": {},
   "outputs": [],
   "source": [
    "# !pip install pyperclip "
   ]
  },
  {
   "cell_type": "code",
   "execution_count": 2,
   "metadata": {},
   "outputs": [],
   "source": [
    "import time \n",
    "from selenium import webdriver \n",
    "from selenium.webdriver.common.by import By \n",
    "from selenium.webdriver import Keys, ActionChains\n",
    "import pyperclip "
   ]
  },
  {
   "cell_type": "markdown",
   "metadata": {},
   "source": [
    "[pyperclip 사용법](https://wikidocs.net/236864)"
   ]
  },
  {
   "cell_type": "markdown",
   "metadata": {},
   "source": [
    "# [예제2 네이버 자동로그인](https://line-jjin.tistory.com/entry/python-%ED%8C%8C%EC%9D%B4%EC%8D%AC-selenium-%EB%84%A4%EC%9D%B4%EB%B2%84-%EC%9E%90%EB%8F%99%EB%A1%9C%EA%B7%B8%EC%9D%B8-%EC%BD%94%EB%93%9C-%EC%B5%9C%EC%8B%A0-22-10-14-%EA%B8%B0%EC%A4%80)"
   ]
  },
  {
   "cell_type": "markdown",
   "metadata": {},
   "source": [
    "## 1.네이버 화면 이동"
   ]
  },
  {
   "cell_type": "code",
   "execution_count": 4,
   "metadata": {},
   "outputs": [],
   "source": [
    "# selenium을 이용해서 chrome 아바타 생성\n",
    "# -> selenium의 webdriver모듈을 통해 chrome driver를 사용하여\n",
    "# -> chrome 브라우저 객체 생성\n",
    "\n",
    "chrome = webdriver.Chrome() \n",
    "url = \"http://www.naver.com\"\n",
    "chrome.get(url)\n",
    "chrome.implicitly_wait(3)"
   ]
  },
  {
   "cell_type": "markdown",
   "metadata": {},
   "source": [
    "## 2.네이버 로그인 화면 이동"
   ]
  },
  {
   "cell_type": "code",
   "execution_count": 6,
   "metadata": {},
   "outputs": [],
   "source": [
    "elem = chrome.find_element(By.CLASS_NAME, value=\"MyView-module__link_login___HpHMW\") #class 이름으로 식별\n",
    "elem.click()\n",
    "chrome.implicitly_wait(3)"
   ]
  },
  {
   "cell_type": "code",
   "execution_count": 8,
   "metadata": {},
   "outputs": [
    {
     "data": {
      "text/plain": [
       "'Windows'"
      ]
     },
     "execution_count": 8,
     "metadata": {},
     "output_type": "execute_result"
    }
   ],
   "source": [
    "## 3.로그인\n",
    "import platform \n",
    "os_base = platform.system()\n",
    "os_base"
   ]
  },
  {
   "cell_type": "code",
   "execution_count": 11,
   "metadata": {},
   "outputs": [],
   "source": [
    "user_id = \"devlious134\"\n",
    "\n",
    "log_id = chrome.find_element(By.ID, value=\"id\")\n",
    "log_id.click()\n",
    "pyperclip.copy(user_id)\n",
    "chrome.implicitly_wait(3)\n",
    "\n",
    "if os_base == 'Darwin':\n",
    "    log_id.send_keys(Keys.COMMAND, 'v') # 맥북인 경우 \n",
    "else:\n",
    "    log_id.send_keys(Keys.CONTROL, 'v') # 윈도우인 경우\n",
    "    \n",
    "chrome.implicitly_wait(3)"
   ]
  },
  {
   "cell_type": "code",
   "execution_count": 12,
   "metadata": {},
   "outputs": [],
   "source": [
    "user_pw = \"skaksdmlrjt\"\n",
    "\n",
    "log_pw = chrome.find_element(By.ID, value=\"pw\")\n",
    "log_pw.click()\n",
    "pyperclip.copy(user_pw)\n",
    "chrome.implicitly_wait(3)\n",
    "\n",
    "if os_base == 'Darwin':\n",
    "    log_pw.send_keys(Keys.COMMAND, 'v') # 맥북인 경우 \n",
    "else:\n",
    "    log_pw.send_keys(Keys.CONTROL, 'v') # 윈도우인 경우\n",
    "    \n",
    "chrome.implicitly_wait(3)"
   ]
  },
  {
   "cell_type": "code",
   "execution_count": 13,
   "metadata": {},
   "outputs": [],
   "source": [
    "log_btn = chrome.find_element(By.ID, value=\"log.login\")\n",
    "log_btn.click()\n",
    "chrome.implicitly_wait(3)"
   ]
  },
  {
   "cell_type": "markdown",
   "metadata": {},
   "source": [
    "## 4. 네이버 페이 조회 "
   ]
  },
  {
   "cell_type": "code",
   "execution_count": 16,
   "metadata": {},
   "outputs": [],
   "source": [
    "from bs4 import BeautifulSoup\n",
    "\n",
    "# Naver 페이 들어가기\n",
    "chrome.get('https://order.pay.naver.com/home')\n",
    "chrome.implicitly_wait(3)\n",
    "html = chrome.page_source\n",
    "soup = BeautifulSoup(html, 'html.parser')\n",
    "chrome.implicitly_wait(3)\n",
    "notices = soup.find_all(\"span\", class_=\"ProductName_article__zaafE\")\n",
    "chrome.implicitly_wait(3)\n",
    "for n in notices:\n",
    "    print(n.get_text())"
   ]
  },
  {
   "cell_type": "code",
   "execution_count": null,
   "metadata": {},
   "outputs": [],
   "source": []
  }
 ],
 "metadata": {
  "kernelspec": {
   "display_name": ".venv",
   "language": "python",
   "name": "python3"
  },
  "language_info": {
   "codemirror_mode": {
    "name": "ipython",
    "version": 3
   },
   "file_extension": ".py",
   "mimetype": "text/x-python",
   "name": "python",
   "nbconvert_exporter": "python",
   "pygments_lexer": "ipython3",
   "version": "3.11.9"
  }
 },
 "nbformat": 4,
 "nbformat_minor": 2
}
