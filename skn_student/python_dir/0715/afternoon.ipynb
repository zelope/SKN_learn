{
 "cells": [
  {
   "cell_type": "code",
   "execution_count": 33,
   "metadata": {},
   "outputs": [],
   "source": [
    "class Vehicle:\n",
    "    \n",
    "    def __init__(self, date = \"\", speed=10) -> None:\n",
    "        self.speed = speed\n",
    "        self.date = date\n",
    "        \n",
    "    def go_front(self):\n",
    "        front_speed = self.speed + 20\n",
    "        print(f\"Go front by {front_speed} speed\")\n",
    "    \n",
    "    def go_back(self):\n",
    "        back_speed = self.speed / 2\n",
    "        print(f\"Go back by {back_speed} speed\")\n",
    "        \n",
    "    def go_left(self):\n",
    "        print(f\"Go left by {self.speed} speed\")\n",
    "        \n",
    "    def go_right(self):\n",
    "        print(f\"Go right by {self.speed} speed\")"
   ]
  },
  {
   "cell_type": "code",
   "execution_count": 34,
   "metadata": {},
   "outputs": [],
   "source": [
    "class Motercycle(Vehicle):\n",
    "    person = 0\n",
    "    \n",
    "    def __init__(self, speed=10) -> None:\n",
    "        super().__init__(speed)\n",
    "    \n",
    "    def do_tricks():\n",
    "        print(\"묘기하다\")"
   ]
  },
  {
   "cell_type": "code",
   "execution_count": 35,
   "metadata": {},
   "outputs": [],
   "source": [
    "a = Motercycle()"
   ]
  },
  {
   "cell_type": "code",
   "execution_count": 36,
   "metadata": {},
   "outputs": [
    {
     "data": {
      "text/plain": [
       "0"
      ]
     },
     "execution_count": 36,
     "metadata": {},
     "output_type": "execute_result"
    }
   ],
   "source": [
    "a.person"
   ]
  },
  {
   "cell_type": "code",
   "execution_count": null,
   "metadata": {},
   "outputs": [],
   "source": [
    "class Car(Vehicle):\n",
    "    def __init__(self, person, h_power) -> None:\n",
    "        self.person = person\n",
    "        self.h_power = h_power\n",
    "        \n",
    "    def speed_up(self):\n",
    "        self.\n",
    "        \n",
    "    "
   ]
  },
  {
   "cell_type": "code",
   "execution_count": 26,
   "metadata": {},
   "outputs": [],
   "source": [
    "a_model = Motercycle(\"2024.07.15\")"
   ]
  },
  {
   "cell_type": "code",
   "execution_count": 27,
   "metadata": {},
   "outputs": [
    {
     "name": "stdout",
     "output_type": "stream",
     "text": [
      "Go front by 30 speed\n"
     ]
    }
   ],
   "source": [
    "a_model.go_front()"
   ]
  },
  {
   "cell_type": "code",
   "execution_count": 29,
   "metadata": {},
   "outputs": [],
   "source": [
    "Motercycle.speed = 20"
   ]
  },
  {
   "cell_type": "code",
   "execution_count": 30,
   "metadata": {},
   "outputs": [
    {
     "data": {
      "text/plain": [
       "20"
      ]
     },
     "execution_count": 30,
     "metadata": {},
     "output_type": "execute_result"
    }
   ],
   "source": [
    "Motercycle.speed "
   ]
  },
  {
   "cell_type": "code",
   "execution_count": 37,
   "metadata": {},
   "outputs": [
    {
     "name": "stdout",
     "output_type": "stream",
     "text": [
      "Parent class variable\n",
      "Child class variable\n",
      "Parent instance variable\n",
      "Parent part\n",
      "Child part\n",
      "Modified Parent class variable\n",
      "Child class variable\n",
      "Modified Parent class variable\n",
      "Modified Child class variable\n"
     ]
    }
   ],
   "source": [
    "class Parent:\n",
    "    class_var = \"Parent class variable\"  # 클래스 변수\n",
    "\n",
    "    def __init__(self, value):\n",
    "        self.instance_var = value  # 인스턴스 변수\n",
    "\n",
    "class Child(Parent):\n",
    "    class_var = \"Child class variable\"  # 자식 클래스에서 클래스 변수 재정의\n",
    "\n",
    "    def __init__(self, value, child_value):\n",
    "        super().__init__(value)\n",
    "        self.child_instance_var = child_value  # 자식 클래스에서 추가된 인스턴스 변수\n",
    "\n",
    "# 인스턴스 생성\n",
    "p = Parent(\"Parent instance variable\")\n",
    "c = Child(\"Parent part\", \"Child part\")\n",
    "\n",
    "# 클래스 변수 접근\n",
    "print(Parent.class_var)  # Parent class variable\n",
    "print(Child.class_var)   # Child class variable\n",
    "\n",
    "# 인스턴스 변수 접근\n",
    "print(p.instance_var)  # Parent instance variable\n",
    "print(c.instance_var)  # Parent part\n",
    "print(c.child_instance_var)  # Child part\n",
    "\n",
    "# 클래스 변수 변경\n",
    "Parent.class_var = \"Modified Parent class variable\"\n",
    "print(Parent.class_var)  # Modified Parent class variable\n",
    "print(Child.class_var)   # Child class variable (unchanged)\n",
    "\n",
    "# 자식 클래스의 클래스 변수 변경\n",
    "Child.class_var = \"Modified Child class variable\"\n",
    "print(Parent.class_var)  # Modified Parent class variable\n",
    "print(Child.class_var)   # Modified Child class variable\n"
   ]
  },
  {
   "cell_type": "code",
   "execution_count": 1,
   "metadata": {},
   "outputs": [],
   "source": [
    "# 부모 클래스\n",
    "class GrandMother :\n",
    "\n",
    "    family = \"Hello world\"\n",
    "    name = \"GrandMother\"\n",
    "\n",
    "    def print_self(self) :\n",
    "        print(self)\n",
    "    \n",
    "    def print_HI():\n",
    "        print(\"HI!\")"
   ]
  },
  {
   "cell_type": "code",
   "execution_count": 2,
   "metadata": {},
   "outputs": [],
   "source": [
    "# 자식 클래스\n",
    "class father(GrandMother) :\n",
    "    name = \"father\"\n",
    "\n",
    "    def __init__(self,name,age) :\n",
    "        self.name = name\n",
    "        self.age  = age\n",
    "        self.home = \"seoul\""
   ]
  },
  {
   "cell_type": "code",
   "execution_count": 3,
   "metadata": {},
   "outputs": [],
   "source": [
    "class child(father) :\n",
    "\tname = \"child\""
   ]
  },
  {
   "cell_type": "code",
   "execution_count": 7,
   "metadata": {},
   "outputs": [],
   "source": [
    "my_fatehr = father(\"hi\", 40)"
   ]
  },
  {
   "cell_type": "code",
   "execution_count": 8,
   "metadata": {},
   "outputs": [
    {
     "data": {
      "text/plain": [
       "'hi'"
      ]
     },
     "execution_count": 8,
     "metadata": {},
     "output_type": "execute_result"
    }
   ],
   "source": [
    "my_fatehr.name"
   ]
  },
  {
   "cell_type": "code",
   "execution_count": null,
   "metadata": {},
   "outputs": [],
   "source": []
  }
 ],
 "metadata": {
  "kernelspec": {
   "display_name": ".venv",
   "language": "python",
   "name": "python3"
  },
  "language_info": {
   "codemirror_mode": {
    "name": "ipython",
    "version": 3
   },
   "file_extension": ".py",
   "mimetype": "text/x-python",
   "name": "python",
   "nbconvert_exporter": "python",
   "pygments_lexer": "ipython3",
   "version": "3.11.9"
  }
 },
 "nbformat": 4,
 "nbformat_minor": 2
}
