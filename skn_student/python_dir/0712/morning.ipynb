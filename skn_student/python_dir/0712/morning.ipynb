{
 "cells": [
  {
   "cell_type": "markdown",
   "metadata": {},
   "source": [
    "# 2교시"
   ]
  },
  {
   "cell_type": "markdown",
   "metadata": {},
   "source": [
    "## 함수화 문제"
   ]
  },
  {
   "cell_type": "code",
   "execution_count": null,
   "metadata": {},
   "outputs": [],
   "source": [
    "\n",
    "try:\n",
    "    answer = input(\"숫자를 입력해주세요: \")\n",
    "    answer = int(answer)\n",
    "    assert answer >=2 , \"Number must be between 1 and 100\"# 입력값이 2보다 작으면 오류 발생 \n",
    "\n",
    "    for i in range(2, answer):\n",
    "        # x가 해당 수로 나누어떨어진다면\n",
    "        if answer % i == 0:\n",
    "            print(\"소수가 아닙니다.\")\n",
    "            break\n",
    "    else:\n",
    "        print(\"소수입니다.\")\n",
    "\n",
    "except:\n",
    "    print(\"math error\")"
   ]
  },
  {
   "cell_type": "code",
   "execution_count": 5,
   "metadata": {},
   "outputs": [],
   "source": [
    "def distin_prime(number):\n",
    "    for i in range(2,number):\n",
    "        if number % i ==0:\n",
    "            pop_up = \"소수가 아닙니다.\"\n",
    "    else:\n",
    "        pop_up = \"소수입니다.\"\n",
    "    \n",
    "    return pop_up"
   ]
  },
  {
   "cell_type": "code",
   "execution_count": 7,
   "metadata": {},
   "outputs": [
    {
     "name": "stdout",
     "output_type": "stream",
     "text": [
      "소수입니다.\n"
     ]
    }
   ],
   "source": [
    "try:\n",
    "    answer = input(\"숫자를 입력해주세요: \")\n",
    "    answer = int(answer)\n",
    "    assert answer >=2 , \"Number must be more than 2\"# 입력값이 2보다 작으면 오류 발생 \n",
    "\n",
    "    result = distin_prime(answer)\n",
    "    print(result)\n",
    "\n",
    "except ValueError:\n",
    "    print(\"math error : plz Input Number\")\n",
    "except AssertionError as e:\n",
    "    print(e)"
   ]
  },
  {
   "cell_type": "code",
   "execution_count": null,
   "metadata": {},
   "outputs": [],
   "source": [
    "range"
   ]
  }
 ],
 "metadata": {
  "kernelspec": {
   "display_name": ".venv",
   "language": "python",
   "name": "python3"
  },
  "language_info": {
   "codemirror_mode": {
    "name": "ipython",
    "version": 3
   },
   "file_extension": ".py",
   "mimetype": "text/x-python",
   "name": "python",
   "nbconvert_exporter": "python",
   "pygments_lexer": "ipython3",
   "version": "3.12.3"
  }
 },
 "nbformat": 4,
 "nbformat_minor": 2
}
