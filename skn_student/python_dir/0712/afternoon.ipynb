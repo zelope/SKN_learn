{
 "cells": [
  {
   "cell_type": "markdown",
   "metadata": {},
   "source": [
    "## [최대값, 최소값, 중간값 출력](https://codingdojang.com/scode/708#answer-filter-area)\n",
    "- 예시 >> [8, 6, 2, 8, 5, 1, 2, 5, 4, 9]\n",
    "  - 최소값: 1 / 최대값: 9 / 중간값: 5\n",
    "\n",
    "(가변 파라미터 사용)"
   ]
  },
  {
   "cell_type": "code",
   "execution_count": 8,
   "metadata": {},
   "outputs": [],
   "source": [
    "def find_MAX(number_list: list) -> float:\n",
    "    flag = number_list[0]\n",
    "    for num in number_list:\n",
    "        if num > flag:\n",
    "            flag = num\n",
    "    return flag"
   ]
  },
  {
   "cell_type": "code",
   "execution_count": 9,
   "metadata": {},
   "outputs": [],
   "source": [
    "def find_min(number_list: list) -> float:\n",
    "    flag = number_list[0]\n",
    "    for num in number_list:\n",
    "        if num < flag:\n",
    "            flag = num\n",
    "    return flag"
   ]
  },
  {
   "cell_type": "code",
   "execution_count": 15,
   "metadata": {},
   "outputs": [],
   "source": [
    "def cal_med(number_list: list) -> float:\n",
    "    h_many = len(number_list)\n",
    "    number_list =sorted(number_list)\n",
    "    if h_many % 2 ==0:\n",
    "        result_med = number_list[h_many//2 -1]\n",
    "    else:\n",
    "        result_med = number_list[h_many//2]\n",
    "    return result_med\n",
    "        "
   ]
  },
  {
   "cell_type": "code",
   "execution_count": 16,
   "metadata": {},
   "outputs": [],
   "source": [
    "def calculate(*numbers):\n",
    "    try:\n",
    "        num_list = []\n",
    "        for i in numbers:\n",
    "            num_list.append(float(i))\n",
    "    except:\n",
    "        result_str = \"There is Wrong Element in sequence\"\n",
    "    else:\n",
    "        Max_num = find_MAX(num_list)\n",
    "        min_num = find_min(num_list)\n",
    "        med_num = cal_med(num_list)\n",
    "        result_str = f\"Max : {Max_num}, \\n min : {min_num}, \\n Med : {med_num}\"\n",
    "    \n",
    "    finally:\n",
    "        print(result_str)"
   ]
  },
  {
   "cell_type": "code",
   "execution_count": 20,
   "metadata": {},
   "outputs": [
    {
     "name": "stdout",
     "output_type": "stream",
     "text": [
      "Max : 12.0, \n",
      " min : 1.0, \n",
      " Med : 4.0\n"
     ]
    }
   ],
   "source": [
    "calculate(1,1,12,7,4,8)"
   ]
  },
  {
   "cell_type": "markdown",
   "metadata": {},
   "source": [
    "## [방탈출 게임](https://codingdojang.com/scode/726#answer-filter-area)\n",
    "- 비밀번호는 3자리로 한다.\n",
    "- 비밀번호를 입력하게 한다.\n",
    "- 비밀번호가 틀리면 처음부터 다시 입력하게 한다.\n",
    "- 비밀번호가 맞으면 성공 메시지를 출력한다."
   ]
  },
  {
   "cell_type": "code",
   "execution_count": 21,
   "metadata": {},
   "outputs": [
    {
     "data": {
      "text/plain": [
       "461"
      ]
     },
     "execution_count": 21,
     "metadata": {},
     "output_type": "execute_result"
    }
   ],
   "source": [
    "import random\n",
    "\n",
    "password = str(random.randint(0,9)) + str(random.randint(0,9)) + str(random.randint(0,9))\n",
    "password = int(password)\n",
    "password"
   ]
  },
  {
   "cell_type": "code",
   "execution_count": null,
   "metadata": {},
   "outputs": [],
   "source": [
    "def check_Error(user_data: str) -> str:\n",
    "    try:\n",
    "        "
   ]
  },
  {
   "cell_type": "code",
   "execution_count": 24,
   "metadata": {},
   "outputs": [
    {
     "name": "stdout",
     "output_type": "stream",
     "text": [
      "Wrong number.. 0 times retry chance left\n",
      "Wrong number.. 1 times retry chance left\n",
      "Only Integer is allowed\n",
      "Only Integer is allowed\n",
      "Only Integer is allowed\n",
      "Only Integer is allowed\n",
      "Only Integer is allowed\n",
      "Only Integer is allowed\n",
      "Only Integer is allowed\n",
      "Only Integer is allowed\n",
      "Only Integer is allowed\n",
      "Only Integer is allowed\n",
      "Only Integer is allowed\n",
      "Only Integer is allowed\n",
      "Wrong number.. 2 times retry chance left\n",
      "Wrong number.. 3 times retry chance left\n",
      "Wrong number.. 4 times retry chance left\n",
      "You try more than 5 times. Access Denied\n"
     ]
    }
   ],
   "source": [
    "flag = 0\n",
    "\n",
    "while flag < 5:\n",
    "    user_input = input(\"Plz Input 3-digit Password : \")\n",
    "    user_input = user_input.replace(\" \", \"\") # 공백제거\n",
    "    try:\n",
    "        assert len(user_input) < 4, \"Password digit is less than 4\"\n",
    "        user_input =int(user_input)\n",
    "        if user_input == password:\n",
    "            print(\"You are Correct!\")\n",
    "            break\n",
    "        else:\n",
    "            print(f\"Wrong number.. {4- flag} times retry chance left\")\n",
    "            \n",
    "    except ValueError:\n",
    "        print(\"Only Integer is allowed\")\n",
    "    except AssertionError as e:\n",
    "        print(e)\n",
    "    else:\n",
    "        flag +=1\n",
    "\n",
    "else:\n",
    "    print(\"You try more than 5 times. Access Denied\")"
   ]
  },
  {
   "cell_type": "code",
   "execution_count": null,
   "metadata": {},
   "outputs": [],
   "source": []
  }
 ],
 "metadata": {
  "kernelspec": {
   "display_name": ".venv",
   "language": "python",
   "name": "python3"
  },
  "language_info": {
   "codemirror_mode": {
    "name": "ipython",
    "version": 3
   },
   "file_extension": ".py",
   "mimetype": "text/x-python",
   "name": "python",
   "nbconvert_exporter": "python",
   "pygments_lexer": "ipython3",
   "version": "3.12.3"
  }
 },
 "nbformat": 4,
 "nbformat_minor": 2
}
