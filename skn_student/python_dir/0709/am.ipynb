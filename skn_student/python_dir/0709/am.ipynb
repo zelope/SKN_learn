{
 "cells": [
  {
   "cell_type": "markdown",
   "metadata": {},
   "source": [
    "# 상수"
   ]
  },
  {
   "cell_type": "markdown",
   "metadata": {},
   "source": [
    "## enum\n",
    "일반적으로 서로 관련이 있는 여러 개의 상수의 집합을 정의할 때 사용된다.\n",
    "정확히는 상수들을 묶어서 객체로 만든다"
   ]
  },
  {
   "cell_type": "code",
   "execution_count": 2,
   "metadata": {},
   "outputs": [],
   "source": [
    "import enum"
   ]
  },
  {
   "cell_type": "code",
   "execution_count": 3,
   "metadata": {},
   "outputs": [],
   "source": [
    "class RAINBOW(enum.Enum): #상수에 대한 대표 그룹명 \n",
    "    RED =(enum.auto(),'red') # 상수명 = (메모리 값, 데이터)\n",
    "    ORANGE=(enum.auto(), 'orange')\n",
    "    YELLOW=(enum.auto(), 'yellow')\n",
    "    GREEN=(enum.auto(), 'green')\n",
    "    BLUE=(enum.auto(), 'blue')\n",
    "    NAVY=(enum.auto(), 'navy')\n",
    "    PURPLE=(enum.auto(),'purple')"
   ]
  },
  {
   "cell_type": "code",
   "execution_count": 19,
   "metadata": {},
   "outputs": [
    {
     "data": {
      "text/plain": [
       "mappingproxy({'RED': <RAINBOW.RED: (<enum.auto object at 0x00000270825A63E0>, 'red')>,\n",
       "              'ORANGE': <RAINBOW.ORANGE: (<enum.auto object at 0x00000270825A75B0>, 'orange')>,\n",
       "              'YELLOW': <RAINBOW.YELLOW: (<enum.auto object at 0x00000270825A70A0>, 'yellow')>,\n",
       "              'GREEN': <RAINBOW.GREEN: (<enum.auto object at 0x00000270825A77F0>, 'green')>,\n",
       "              'BLUE': <RAINBOW.BLUE: (<enum.auto object at 0x00000270825A41F0>, 'blue')>,\n",
       "              'NAVY': <RAINBOW.NAVY: (<enum.auto object at 0x00000270825A53F0>, 'navy')>,\n",
       "              'PURPLE': <RAINBOW.PURPLE: (<enum.auto object at 0x0000027082636FE0>, 'purple')>})"
      ]
     },
     "execution_count": 19,
     "metadata": {},
     "output_type": "execute_result"
    }
   ],
   "source": [
    "RAINBOW.__members__"
   ]
  },
  {
   "cell_type": "code",
   "execution_count": 5,
   "metadata": {},
   "outputs": [
    {
     "data": {
      "text/plain": [
       "'red'"
      ]
     },
     "execution_count": 5,
     "metadata": {},
     "output_type": "execute_result"
    }
   ],
   "source": [
    "RAINBOW.RED.value[1]"
   ]
  },
  {
   "cell_type": "code",
   "execution_count": 6,
   "metadata": {},
   "outputs": [
    {
     "data": {
      "text/plain": [
       "<enum.auto at 0x270825a63e0>"
      ]
     },
     "execution_count": 6,
     "metadata": {},
     "output_type": "execute_result"
    }
   ],
   "source": [
    "RAINBOW.RED.value[0]"
   ]
  },
  {
   "cell_type": "code",
   "execution_count": 7,
   "metadata": {},
   "outputs": [
    {
     "data": {
      "text/plain": [
       "'RED'"
      ]
     },
     "execution_count": 7,
     "metadata": {},
     "output_type": "execute_result"
    }
   ],
   "source": [
    "RAINBOW.RED.name"
   ]
  },
  {
   "cell_type": "code",
   "execution_count": 8,
   "metadata": {},
   "outputs": [
    {
     "data": {
      "text/plain": [
       "True"
      ]
     },
     "execution_count": 8,
     "metadata": {},
     "output_type": "execute_result"
    }
   ],
   "source": [
    "x = RAINBOW.RED.value[1]\n",
    "y = RAINBOW.RED.value[1]\n",
    "x is y"
   ]
  },
  {
   "cell_type": "code",
   "execution_count": 9,
   "metadata": {},
   "outputs": [],
   "source": [
    "class DIRECTION(enum.Enum):\n",
    "    NORTH = (enum.auto(), \"N\")\n",
    "    WEST = (enum.auto(), \"W\")\n",
    "    EAST = (enum.auto(), \"E\")\n",
    "    SOUTH = (enum.auto(), \"S\")\n",
    "    "
   ]
  },
  {
   "cell_type": "code",
   "execution_count": 15,
   "metadata": {},
   "outputs": [
    {
     "data": {
      "text/plain": [
       "<enum 'RAINBOW'>"
      ]
     },
     "execution_count": 15,
     "metadata": {},
     "output_type": "execute_result"
    }
   ],
   "source": [
    "RAINBOW"
   ]
  },
  {
   "cell_type": "code",
   "execution_count": 17,
   "metadata": {},
   "outputs": [
    {
     "data": {
      "text/plain": [
       "mappingproxy({'RED': <RAINBOW.RED: (<enum.auto object at 0x00000270825A63E0>, 'red')>,\n",
       "              'ORANGE': <RAINBOW.ORANGE: (<enum.auto object at 0x00000270825A75B0>, 'orange')>,\n",
       "              'YELLOW': <RAINBOW.YELLOW: (<enum.auto object at 0x00000270825A70A0>, 'yellow')>,\n",
       "              'GREEN': <RAINBOW.GREEN: (<enum.auto object at 0x00000270825A77F0>, 'green')>,\n",
       "              'BLUE': <RAINBOW.BLUE: (<enum.auto object at 0x00000270825A41F0>, 'blue')>,\n",
       "              'NAVY': <RAINBOW.NAVY: (<enum.auto object at 0x00000270825A53F0>, 'navy')>,\n",
       "              'PURPLE': <RAINBOW.PURPLE: (<enum.auto object at 0x0000027082636FE0>, 'purple')>})"
      ]
     },
     "execution_count": 17,
     "metadata": {},
     "output_type": "execute_result"
    }
   ],
   "source": [
    "RAINBOW.__members__"
   ]
  },
  {
   "cell_type": "markdown",
   "metadata": {},
   "source": [
    "특수 어트리뷰트 __members__는 이름에서 멤버로의 읽기 전용 순서 있는 매핑입니다. \n",
    "별칭을 포함하여, 열거형에 정의된 모든 이름을 포함합니다:"
   ]
  },
  {
   "cell_type": "code",
   "execution_count": 24,
   "metadata": {},
   "outputs": [
    {
     "name": "stdout",
     "output_type": "stream",
     "text": [
      "RED red\n",
      "ORANGE orange\n",
      "YELLOW yellow\n",
      "GREEN green\n",
      "BLUE blue\n",
      "NAVY navy\n",
      "PURPLE purple\n"
     ]
    }
   ],
   "source": [
    "for name, member in RAINBOW.__members__.items():\n",
    "    print(name, member.value[1])"
   ]
  },
  {
   "cell_type": "markdown",
   "metadata": {},
   "source": [
    "[enum 공식문서](https://docs.python.org/ko/3.10/library/enum.html)"
   ]
  },
  {
   "cell_type": "markdown",
   "metadata": {},
   "source": []
  },
  {
   "cell_type": "code",
   "execution_count": null,
   "metadata": {},
   "outputs": [],
   "source": []
  }
 ],
 "metadata": {
  "kernelspec": {
   "display_name": ".venv",
   "language": "python",
   "name": "python3"
  },
  "language_info": {
   "codemirror_mode": {
    "name": "ipython",
    "version": 3
   },
   "file_extension": ".py",
   "mimetype": "text/x-python",
   "name": "python",
   "nbconvert_exporter": "python",
   "pygments_lexer": "ipython3",
   "version": "3.10.5"
  }
 },
 "nbformat": 4,
 "nbformat_minor": 2
}
