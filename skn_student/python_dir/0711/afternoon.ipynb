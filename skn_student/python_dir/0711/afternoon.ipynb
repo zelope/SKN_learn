{
 "cells": [
  {
   "cell_type": "markdown",
   "metadata": {},
   "source": [
    "# 난이도 초급"
   ]
  },
  {
   "cell_type": "markdown",
   "metadata": {},
   "source": [
    "## [소수 구별](https://freedeveloper.tistory.com/391)\n",
    "프로그래머 X는 입력값을 숫자를 입력하거나 문자를 입력하려고 하는데,\n",
    "- 만약 숫자를 입력하였으면 그것이 정수인지, 소수인지 구별하는 프로그램을 짜보도록 하고,\n",
    "- 만약 문자를 입력하였으면 숫자가 아니므로 math error를 표시하게 하라."
   ]
  },
  {
   "cell_type": "code",
   "execution_count": 30,
   "metadata": {},
   "outputs": [],
   "source": [
    "try:\n",
    "    user_input = int(input(\"Prime number indicater : \"))\n",
    "except ValueError as e:\n",
    "    print(\"MATH ERROR : Plz input number\")\n",
    "else:\n",
    "    if user_input < 2:\n",
    "        print(f'{user_input} is not Prime Number')\n",
    "    else:\n",
    "        prime_flag = int(user_input ** 0.5) + 1 # 입력한 숫자의 제곱근 보다 큰 가장 가까운 정수\n",
    "\n",
    "        \n",
    "        for flag in range(prime_flag, 1, -1): #prime_flag 보다 작고 2 이상은 모든 수\n",
    "            if user_input % flag == 0 :\n",
    "                print(f'{user_input} is not Prime Number')\n",
    "                break \n",
    "        else:\n",
    "            print(f'{user_input} is Prime Number')\n",
    "            \n",
    "        \n",
    "    "
   ]
  },
  {
   "cell_type": "markdown",
   "metadata": {},
   "source": [
    "## [최대값, 최소값, 중간값 출력](https://codingdojang.com/scode/708#answer-filter-area)\n",
    "- 예시 >> [8, 6, 2, 8, 5, 1, 2, 5, 4, 9]\n",
    "  - 최소값: 1 / 최대값: 9 / 중간값: 5\n",
    "\n"
   ]
  },
  {
   "cell_type": "code",
   "execution_count": null,
   "metadata": {},
   "outputs": [],
   "source": [
    "from typing import List\n",
    "def caculate(numbers: List[int]):\n",
    "    print(f'min number : {min(numbers)}')\n",
    "    print(f'MAX number : {max(numbers)}')\n",
    "    print(f'Average : {sum(numbers)/len(numbers)}')\n",
    "    \n",
    "user_input = list(map(int, input(\"Input numbers (distinguish by spacebar) : \").split()))\n",
    "\n",
    "caculate(user_input)"
   ]
  },
  {
   "cell_type": "markdown",
   "metadata": {},
   "source": [
    "## [Up&Down 숫자 맞추기](https://codingdojang.com/scode/711#answer-filter-area)\n",
    "- 컴퓨터가 1 ~ 100 중 랜덤으로 숫자를 정합니다.\n",
    "- 입력한 숫자보다 정답이 크면, \"UP\" 출력,\n",
    "- 입력한 숫자보다 정답이 작으면, \"DOWN\" 출력,\n",
    "- 정답을 맞추면, \"정답\" 출력"
   ]
  },
  {
   "cell_type": "code",
   "execution_count": null,
   "metadata": {},
   "outputs": [],
   "source": [
    "import random\n",
    "from typing import List\n",
    "\n",
    "def funky_up(flag_num, number : int):\n",
    "    if flag_num == number :\n",
    "        print(f\"CORRECT!! secret number was : {flag_num}\")\n",
    "    elif flag_num > number:\n",
    "        print(\"UP\")\n",
    "    else:\n",
    "        print(\"DOWN\")\n",
    "    "
   ]
  },
  {
   "cell_type": "code",
   "execution_count": 6,
   "metadata": {},
   "outputs": [
    {
     "name": "stdout",
     "output_type": "stream",
     "text": [
      "Number must be between 1 and 100\n"
     ]
    }
   ],
   "source": [
    "import random\n",
    "try:\n",
    "    user_input = int(input(\"Let's Play GAME!! plz correct the number (1~100): \"))\n",
    "    flag_num = random.randint(1,100)\n",
    "    assert 0<user_input<101 , \"Number must be between 1 and 100\"\n",
    "    while True:\n",
    "        if flag_num == user_input :\n",
    "            print(f\"CORRECT!! secret number was : {flag_num}\")\n",
    "            break\n",
    "        elif flag_num > user_input:\n",
    "            print(\"UP\")\n",
    "        else:\n",
    "            print(\"DOWN\")\n",
    "        user_input = int(input(\"Input New number : \"))\n",
    "        \n",
    "except ValueError:\n",
    "    print(\"Input wrong type. plz input int\")\n",
    "\n",
    "except AssertionError as e:\n",
    "    print(e)\n"
   ]
  },
  {
   "cell_type": "code",
   "execution_count": null,
   "metadata": {},
   "outputs": [],
   "source": []
  }
 ],
 "metadata": {
  "kernelspec": {
   "display_name": ".venv",
   "language": "python",
   "name": "python3"
  },
  "language_info": {
   "codemirror_mode": {
    "name": "ipython",
    "version": 3
   },
   "file_extension": ".py",
   "mimetype": "text/x-python",
   "name": "python",
   "nbconvert_exporter": "python",
   "pygments_lexer": "ipython3",
   "version": "3.12.3"
  }
 },
 "nbformat": 4,
 "nbformat_minor": 2
}
