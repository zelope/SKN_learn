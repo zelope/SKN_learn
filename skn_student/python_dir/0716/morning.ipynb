{
 "cells": [
  {
   "cell_type": "markdown",
   "metadata": {},
   "source": [
    "## 전사 vs 법사"
   ]
  },
  {
   "cell_type": "code",
   "execution_count": 6,
   "metadata": {},
   "outputs": [],
   "source": [
    "import random\n",
    "class person:\n",
    "    \n",
    "    def __init__(self, hp = 100, mp = None) -> None:\n",
    "        self.hp = hp\n",
    "        self.mp = mp\n",
    "        \n",
    "    def walk():\n",
    "        pass\n",
    "    \n",
    "    def jump():\n",
    "        pass\n",
    "    \n",
    "    def rest(self):\n",
    "        self.hp += 10\n",
    "        if self.mp != None:\n",
    "            self.mp += 10\n",
    "    \n",
    "\n",
    "class knight(person):\n",
    "    \n",
    "    def __init__(self, hp=1000, mp=None, strengh = 10) -> None:\n",
    "        super().__init__(hp, mp)\n",
    "        self.strengh = strengh\n",
    "        \n",
    "        \n",
    "    def attack(self):\n",
    "        self.hp -= self.strengh\n",
    "        if self.hp < 0 :\n",
    "            print(\"You have no HP\")\n",
    "        \n",
    "        return self.strengh \n",
    "        \n",
    "        \n",
    "    def defence(self,damage):\n",
    "        defence_count = random.randint(1,10)\n",
    "        if defence_count < 7:\n",
    "            print(f\"Defence fail. You got {damage} damage\")\n",
    "            self.hp -= damage\n",
    "        else:\n",
    "            print(\"Defence is success\")\n",
    "        \n",
    "class Wizard(person):\n",
    "    \n",
    "    def __init__(self, hp=500, mp=1000, intel = 10) -> None:\n",
    "        super().__init__(hp, mp)\n",
    "        self.intel = intel\n",
    "        \n",
    "        \n",
    "    def attack(self):\n",
    "        self.mp -= self.intel * 2\n",
    "        if self.mp < 0 :\n",
    "            print(\"You have no MP\")\n",
    "        \n",
    "        return self.intel \n",
    "        \n",
    "        \n",
    "    def defence(self,damage):\n",
    "        defence_count = random.randint(1,10)\n",
    "        if defence_count < 7:\n",
    "            print(f\"Defence fail. You got {damage} damage\")\n",
    "            self.hp -= damage\n",
    "        else:\n",
    "            print(\"Defence is success\")\n",
    "    \n",
    "class Defender(knight):\n",
    "    \n",
    "    def __init__(self, hp=1000, mp=100, strengh=2, defend=1) -> None:\n",
    "        super().__init__(hp, mp, strengh)\n",
    "        self.defend = defend\n",
    "        \n",
    "        \n",
    "    def attack(self):\n",
    "        self.mp -= self.intel * 2\n",
    "        if self.mp < 0 :\n",
    "            print(\"You have no MP\")\n",
    "        \n",
    "        return self.intel \n",
    "        \n",
    "        \n",
    "    def defence(self,damage):\n",
    "        defence_count = random.randint(1,10+self.defend)\n",
    "        if defence_count < 5:\n",
    "            print(f\"Defence fail. You got {damage} damage\")\n",
    "            self.hp -= damage\n",
    "        else:\n",
    "            print(\"Defence is success\")        \n",
    "    \n",
    "        \n",
    "    "
   ]
  },
  {
   "cell_type": "markdown",
   "metadata": {},
   "source": [
    "### 강사님 버전"
   ]
  },
  {
   "cell_type": "code",
   "execution_count": null,
   "metadata": {},
   "outputs": [],
   "source": [
    "class Person:\n",
    "    # 초기화!!\n",
    "    hp = 0 # 체력 \n",
    "    mp = 0 # 마나 \n",
    "\n",
    "    # hp: 기사, 마법사 / mp: 마법사\n",
    "    def init(self, p_hp, p_mp=None):\n",
    "        self.hp = p_hp\n",
    "        if p_mp is not None:\n",
    "            self.mp = p_mp \n",
    "\n",
    "    def rest(self):\n",
    "        self.hp += 10\n",
    "\n",
    "        if self.mp: # self.mp: 0 / None -> 둘다 아니다.!!! \n",
    "            self.mp += 10\n",
    "import random\n",
    "\n",
    "class Knight(Person):\n",
    "    power = 0\n",
    "\n",
    "    def init(self):\n",
    "        super().init(p_hp=500)\n",
    "        self.power = random.randint(10,50)\n",
    "\n",
    "#상대방에게 공격\n",
    "    def attack(self, enemy):\n",
    "        # 상대방 방어 활률적으로.. \n",
    "        enemy.defense(self.power)\n",
    "\n",
    "    # 방어하자!! 제발.... 살려\n",
    "    def defense(self, power):\n",
    "        islife = True\n",
    "        if random.randint(1,10) < 5:\n",
    "            self.hp -= power/2\n",
    "\n",
    "        if self.hp <= 0:\n",
    "            print(\"죽음\")\n",
    "            islife = False \n",
    "\n",
    "        return islife\n",
    "class Wizard(Person):\n",
    "    knowledge = 0\n",
    "\n",
    "    def init(self):\n",
    "        self.knowledge = random.randint(10,50)\n",
    "        super().init(p_hp=300, p_mp=self.knowledge)\n",
    "\n",
    "    # 상대방에게 공격\n",
    "    def attack(self, enemy):\n",
    "        # 상대방 방어 활률적으로.. \n",
    "        enemy.defense(self.knowledge)\n",
    "\n",
    "    # 방어하자!! 제발.... 살려\n",
    "    def defense(self, power):\n",
    "        islife = True\n",
    "        if random.randint(1,10) < 5:\n",
    "            self.hp -= power\n",
    "\n",
    "        if self.hp <= 0:\n",
    "            print(\"죽음\")\n",
    "            islife = False \n",
    "\n",
    "        return islife"
   ]
  },
  {
   "cell_type": "code",
   "execution_count": null,
   "metadata": {},
   "outputs": [],
   "source": [
    "class Game:\n",
    "\n",
    "#게임이 시작하였습니다.\n",
    "    def init(self) -> None:\n",
    "        self.knight = Knight() # 기사 입장 \n",
    "        self.wizard = Wizard() # 마법사 입장 \n",
    "\n",
    "    def start_game(self):\n",
    "        print(\"게임을 시작하겠습니다.\")\n",
    "        while True:\n",
    "            if random.randint(1,10) < 5:\n",
    "                print(\"기사 공격\")\n",
    "                self.knight.attack(self.wizard)\n",
    "                if self.wizard.hp <= 0:\n",
    "                    print(\"기사 승리\")\n",
    "                    break\n",
    "            else:\n",
    "                print(\"마법사 공격\")\n",
    "                self.wizard.attack(self.knight)\n",
    "                if self.knight.hp <= 0:\n",
    "                    print(\"마법사 승리\")\n",
    "                    break"
   ]
  },
  {
   "cell_type": "markdown",
   "metadata": {},
   "source": [
    "## 오버라이드"
   ]
  },
  {
   "cell_type": "markdown",
   "metadata": {},
   "source": [
    "## 접근지정자 (private)"
   ]
  },
  {
   "cell_type": "markdown",
   "metadata": {},
   "source": [
    "#### 언더바 2개"
   ]
  },
  {
   "cell_type": "code",
   "execution_count": 12,
   "metadata": {},
   "outputs": [],
   "source": [
    "class Student:\n",
    "    __schoolName = 'XYZ School' # private class attribute\n",
    "\n",
    "    def __init__(self, name, age):\n",
    "        self.name=name  # public instance attribute\n",
    "        self.__salary=age # private instance attribute\n",
    "    def __display(self):  # private method\n",
    "\t      print('This is private method.')"
   ]
  },
  {
   "cell_type": "code",
   "execution_count": 14,
   "metadata": {},
   "outputs": [
    {
     "ename": "AttributeError",
     "evalue": "type object 'Student' has no attribute '__schoolName'",
     "output_type": "error",
     "traceback": [
      "\u001b[1;31m---------------------------------------------------------------------------\u001b[0m",
      "\u001b[1;31mAttributeError\u001b[0m                            Traceback (most recent call last)",
      "Cell \u001b[1;32mIn[14], line 1\u001b[0m\n\u001b[1;32m----> 1\u001b[0m \u001b[43mStudent\u001b[49m\u001b[38;5;241;43m.\u001b[39;49m\u001b[43m__schoolName\u001b[49m\n",
      "\u001b[1;31mAttributeError\u001b[0m: type object 'Student' has no attribute '__schoolName'"
     ]
    }
   ],
   "source": [
    "Student.__schoolName"
   ]
  },
  {
   "cell_type": "markdown",
   "metadata": {},
   "source": [
    "## Magic Method"
   ]
  },
  {
   "cell_type": "code",
   "execution_count": null,
   "metadata": {},
   "outputs": [],
   "source": [
    "from typing import Any\n",
    "\n",
    "\n",
    "class MyDataset:\n",
    "    def __init__(self, data:list) -> None:\n",
    "        self.data = data\n",
    "        \n",
    "    # def __call__(self, *args: Any, **kwds: Any) -> Any:\n",
    "    #     pass\n",
    "    \n",
    "    \n",
    "    def __call__(self, name:str) -> int:\n",
    "        #객체를 함수처럼 사용하는 것\n",
    "        print(f\"이름은 {name}입니다\")\n",
    "        \n",
    "        return len(self.data)\n",
    "    \n",
    "    def __getitem__(self, index:int) -> int:\n",
    "        print(\"No pain No gain\")\n",
    "        \n",
    "        return self.data[index]\n",
    "    "
   ]
  },
  {
   "cell_type": "markdown",
   "metadata": {},
   "source": [
    "## custom module"
   ]
  },
  {
   "cell_type": "code",
   "execution_count": 1,
   "metadata": {},
   "outputs": [],
   "source": [
    "import common"
   ]
  },
  {
   "cell_type": "code",
   "execution_count": 2,
   "metadata": {},
   "outputs": [
    {
     "name": "stdout",
     "output_type": "stream",
     "text": [
      "어서와 add_a_b() 함수는 처음이지\n"
     ]
    },
    {
     "data": {
      "text/plain": [
       "3"
      ]
     },
     "execution_count": 2,
     "metadata": {},
     "output_type": "execute_result"
    }
   ],
   "source": [
    "common.add_a_b(1,2)"
   ]
  },
  {
   "cell_type": "code",
   "execution_count": null,
   "metadata": {},
   "outputs": [],
   "source": []
  }
 ],
 "metadata": {
  "kernelspec": {
   "display_name": ".venv",
   "language": "python",
   "name": "python3"
  },
  "language_info": {
   "codemirror_mode": {
    "name": "ipython",
    "version": 3
   },
   "file_extension": ".py",
   "mimetype": "text/x-python",
   "name": "python",
   "nbconvert_exporter": "python",
   "pygments_lexer": "ipython3",
   "version": "3.11.9"
  }
 },
 "nbformat": 4,
 "nbformat_minor": 2
}
